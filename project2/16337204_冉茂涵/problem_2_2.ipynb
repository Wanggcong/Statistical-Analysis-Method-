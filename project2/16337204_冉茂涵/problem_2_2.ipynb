{
 "cells": [
  {
   "cell_type": "code",
   "execution_count": 8,
   "metadata": {},
   "outputs": [
    {
     "name": "stdout",
     "output_type": "stream",
     "text": [
      "              df        sum_sq       mean_sq            F         PR(>F)\n",
      "sex          1.0  6.435902e+08  6.435902e+08    11.524608   7.069618e-04\n",
      "smoker       1.0  1.208777e+11  1.208777e+11  2164.527244  1.190490e-281\n",
      "Residual  1335.0  7.455290e+10  5.584487e+07          NaN            NaN\n"
     ]
    }
   ],
   "source": [
    "import pandas as pd\n",
    "from statsmodels.formula.api import ols\n",
    "from statsmodels.stats.anova import anova_lm\n",
    "\n",
    "#读入数据\n",
    "data=pd.read_table(\"data.txt\",sep=\",\")\n",
    "\n",
    "#多因素方差分析\n",
    "model=ols('charges ~ sex + smoker',data).fit()\n",
    "anovat=anova_lm(model)\n",
    "print(anovat)"
   ]
  },
  {
   "cell_type": "code",
   "execution_count": null,
   "metadata": {},
   "outputs": [],
   "source": []
  }
 ],
 "metadata": {
  "kernelspec": {
   "display_name": "Python 3",
   "language": "python",
   "name": "python3"
  },
  "language_info": {
   "codemirror_mode": {
    "name": "ipython",
    "version": 3
   },
   "file_extension": ".py",
   "mimetype": "text/x-python",
   "name": "python",
   "nbconvert_exporter": "python",
   "pygments_lexer": "ipython3",
   "version": "3.6.5"
  }
 },
 "nbformat": 4,
 "nbformat_minor": 2
}
