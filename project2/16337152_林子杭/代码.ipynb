{
 "cells": [
  {
   "cell_type": "code",
   "execution_count": 33,
   "metadata": {},
   "outputs": [],
   "source": [
    "import pandas as pd\n",
    "import numpy as np\n",
    "data_frame = pd.read_csv('data.txt', usecols=('age','bmi','children','charges'), delimiter=',')\n",
    "data = np.array(data_frame)\n",
    "x_train, y_train = data[:-5, :-1], data[:-5, -1]\n",
    "x_test, y_test = data[-5:, :-1], data[-5:, -1]"
   ]
  },
  {
   "cell_type": "code",
   "execution_count": 43,
   "metadata": {},
   "outputs": [
    {
     "name": "stdout",
     "output_type": "stream",
     "text": [
      "[203.33097745 165.51265068 410.40870548] [16523.70178068  8943.12140383  9759.09877167  8540.17691404\n",
      " 17214.64237994]\n"
     ]
    }
   ],
   "source": [
    "B = np.linalg.inv(x_train.T@x_train)@x_train.T@y_train\n",
    "y_predict = x_test @ B\n",
    "print(B, y_predict)"
   ]
  },
  {
   "cell_type": "code",
   "execution_count": 35,
   "metadata": {},
   "outputs": [
    {
     "name": "stdout",
     "output_type": "stream",
     "text": [
      "[[-5959.95452959]] [[39007.35809095]]\n",
      "[[-13538.72905259]] [[31424.97186025]]\n",
      "[[-12737.95470218]] [[32256.15224552]]\n",
      "[[-13924.87208644]] [[31005.22591452]]\n",
      "[[-5274.74063276]] [[39704.02539265]]\n"
     ]
    }
   ],
   "source": [
    "from scipy import stats\n",
    "n, p = x_train.shape\n",
    "sse = np.sum(np.square(x_train @ B - y_train))\n",
    "mse = sse / (n-p)\n",
    "t = stats.t.interval(0.95, n-p)\n",
    "for i in range(5):\n",
    "    x = np.reshape(x_test[i], [-1, 1])\n",
    "    tmp = np.sqrt(mse * (1 + x.T @ np.linalg.inv(x_train.T @ x_train) @ x))\n",
    "    print(y_predict[i]+t[0]*tmp, y_predict[i]+t[1]*tmp)"
   ]
  },
  {
   "cell_type": "code",
   "execution_count": 40,
   "metadata": {},
   "outputs": [
    {
     "name": "stdout",
     "output_type": "stream",
     "text": [
      "              df        sum_sq       mean_sq         F    PR(>F)\n",
      "C(sex)       1.0  6.435902e+08  6.435902e+08  4.399702  0.036133\n",
      "Residual  1336.0  1.954306e+11  1.462804e+08       NaN       NaN\n",
      "                      df        sum_sq       mean_sq            F  \\\n",
      "C(sex)               1.0  6.435902e+08  6.435902e+08    11.592531   \n",
      "C(smoker)            1.0  1.208777e+11  1.208777e+11  2177.284440   \n",
      "C(sex):C(smoker)     1.0  4.923397e+08  4.923397e+08     8.868165   \n",
      "Residual          1334.0  7.406056e+10  5.551766e+07          NaN   \n",
      "\n",
      "                         PR(>F)  \n",
      "C(sex)             6.818323e-04  \n",
      "C(smoker)         1.247285e-282  \n",
      "C(sex):C(smoker)   2.954255e-03  \n",
      "Residual                    NaN  \n"
     ]
    }
   ],
   "source": [
    "from statsmodels.formula.api import ols\n",
    "from statsmodels.stats.anova import anova_lm\n",
    "data = pd.read_csv('data.txt', usecols=('sex', 'smoker','charges'), delimiter=',')\n",
    "formula = 'charges~C(sex)'\n",
    "anova_results = anova_lm(ols(formula, data).fit())\n",
    "print(anova_results)\n",
    "formula = 'charges~C(sex)+C(smoker)+C(sex):C(smoker)'\n",
    "anova_results = anova_lm(ols(formula, data).fit())\n",
    "print(anova_results)"
   ]
  }
 ],
 "metadata": {
  "kernelspec": {
   "display_name": "Python 3",
   "language": "python",
   "name": "python3"
  },
  "language_info": {
   "codemirror_mode": {
    "name": "ipython",
    "version": 3
   },
   "file_extension": ".py",
   "mimetype": "text/x-python",
   "name": "python",
   "nbconvert_exporter": "python",
   "pygments_lexer": "ipython3",
   "version": "3.6.4"
  }
 },
 "nbformat": 4,
 "nbformat_minor": 2
}
